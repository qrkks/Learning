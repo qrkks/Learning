{
 "cells": [
  {
   "cell_type": "code",
   "execution_count": 37,
   "metadata": {},
   "outputs": [
    {
     "name": "stdout",
     "output_type": "stream",
     "text": [
      "[('美国', ['麻省理工', '哈佛']), ('中国', ['清华'])]\n",
      "  美国：   2：麻省理工 哈佛\n",
      "  中国：   1：清华\n"
     ]
    }
   ],
   "source": [
    "f = open('data202.txt', 'r', encoding='utf-8')\n",
    "\n",
    "unis = {}  # 创建一个字典存储国家和对应的大学列表\n",
    "\n",
    "# 遍历文件中的每一行\n",
    "for line in f:\n",
    "    # line = line.strip()  # 去除首尾空白符\n",
    "    parts = line.strip().split(',')  # 以逗号为分隔符\n",
    "    if len(parts) == 3:  # 检查是否有3个字段：排名，学校，国家\n",
    "        # rank = parts[0].strip()  # 提取排名\n",
    "        # university = parts[1].strip()  # 提取学校名称\n",
    "        # country = parts[2].strip()  # 提取国家名称\n",
    "        rank, university, country = parts\n",
    "        \n",
    "        # 如果国家不在字典中，则添加该国家\n",
    "        if country not in unis:\n",
    "            unis[country] = []\n",
    "        unis[country].append(university)  # 将学校名称加入该国家的列表中\n",
    "\n",
    "# 关闭文件\n",
    "f.close()\n",
    "\n",
    "# 按国家的大学数量从多到少排序\n",
    "sorted_unis = sorted(unis.items(), key=lambda x: len(x[1]), reverse=True)\n",
    "print(sorted_unis)\n",
    "\n",
    "# 输出格式化的结果\n",
    "for d in sorted_unis:\n",
    "    print('{:>4}：{:>4}：{}'.format(d[0], len(d[1]), ' '.join(d[1])))\n"
   ]
  },
  {
   "cell_type": "markdown",
   "metadata": {},
   "source": [
    "```python\n",
    "f = open('data202.txt'，'r')\n",
    "\n",
    "for line in f: \n",
    "    ...\n",
    "\n",
    "for d in unis:\n",
    "    print('{:>4}:{:>4}:{)'.format(...))\n",
    "```"
   ]
  },
  {
   "cell_type": "code",
   "execution_count": 55,
   "metadata": {},
   "outputs": [
    {
     "name": "stdout",
     "output_type": "stream",
     "text": [
      "{'中国': ['清华'], '美国': ['麻省理工', '哈佛']}\n",
      "中国\n",
      "  中国:    1: 清华\n",
      "美国\n",
      "  美国:    2: 麻省理工 哈佛\n"
     ]
    }
   ],
   "source": [
    "file = open('data202.txt', 'r', encoding='utf-8')\n",
    "\n",
    "unis = {}\n",
    "for line in file:\n",
    "    line_data = line.strip().split(',')\n",
    "    if len(line_data) == 3:\n",
    "        _, university, country = line_data\n",
    "\n",
    "        if country not in unis:\n",
    "            unis[country] = []\n",
    "        \n",
    "        unis[country].append(university)\n",
    "\n",
    "# unis_sorted = sorted(unis.items(), key=lambda x:len(x[1]), reverse=True)\n",
    "# print(unis_sorted)\n",
    "\n",
    "# for d in unis_sorted:\n",
    "#     print('{:>4}: {:>4}: {}'.format(d[0], len(d[1]), ' '.join(d[1])))\n",
    "print(unis)\n",
    "for d in unis:\n",
    "    print(d)\n",
    "    print('{:>4}: {:>4}: {}'.format(d, len(unis[d]), ' '.join(unis[d])))"
   ]
  },
  {
   "cell_type": "code",
   "execution_count": 42,
   "metadata": {},
   "outputs": [
    {
     "data": {
      "text/plain": [
       "['e', 'd', 'c', 'a']"
      ]
     },
     "execution_count": 42,
     "metadata": {},
     "output_type": "execute_result"
    }
   ],
   "source": [
    "sorted('acde', reverse=True)"
   ]
  }
 ],
 "metadata": {
  "kernelspec": {
   "display_name": "ncre",
   "language": "python",
   "name": "python3"
  },
  "language_info": {
   "codemirror_mode": {
    "name": "ipython",
    "version": 3
   },
   "file_extension": ".py",
   "mimetype": "text/x-python",
   "name": "python",
   "nbconvert_exporter": "python",
   "pygments_lexer": "ipython3",
   "version": "3.5.6"
  }
 },
 "nbformat": 4,
 "nbformat_minor": 2
}
