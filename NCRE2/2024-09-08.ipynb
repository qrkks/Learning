{
 "cells": [
  {
   "cell_type": "code",
   "execution_count": 12,
   "metadata": {},
   "outputs": [
    {
     "name": "stdout",
     "output_type": "stream",
     "text": [
      "{'综合': 4, '理工': 2, '师范': 1}\n",
      "[('综合', 4), ('理工', 2), ('师范', 1)]\n",
      "综合:4\n",
      "理工:2\n",
      "师范:1\n"
     ]
    }
   ],
   "source": [
    "a = '综合 理工 综合 综合 综合 师范 理工'\n",
    "tem = a.split(' ')\n",
    "d = {}\n",
    "for i in range(len(tem)):\n",
    "    d[tem[i]] = d.get(tem[i], 0) + 1\n",
    "print(d)\n",
    "\n",
    "ls = list(d.items())\n",
    "print(ls)\n",
    "\n",
    "ls.sort(key=lambda x:x[1],reverse=True)\n",
    "for i in ls:\n",
    "    print('{}:{}'.format(i[0],i[1]))"
   ]
  },
  {
   "cell_type": "markdown",
   "metadata": {},
   "source": [
    "最后一句 `d[tem[i]] = d.get(tem[i], 0) + 1` 是用来更新字典 `d` 中的计数值的。这行代码可以分解为以下几个部分：\n",
    "\n",
    "1. **`d.get(tem[i], 0)`**：这个方法会查找字典 `d` 中的键 `tem[i]`。如果 `tem[i]` 存在于字典中，它将返回该键对应的值；如果键不存在，则返回默认值 `0`。也就是说，如果 `tem[i]` 是新出现的键，它将返回 `0`。\n",
    "\n",
    "2. **`+ 1`**：这部分表示将获取到的值增加 `1`。这意味着每次遇到一个键（即 `tem[i]`），它的计数就会增加 `1`。\n",
    "\n",
    "3. **`d[tem[i]] = ...`**：这部分是将新的计数值赋给字典 `d` 中的键 `tem[i]`。即更新或插入键 `tem[i]` 的计数值。\n",
    "\n",
    "### 整体作用\n",
    "\n",
    "这行代码的作用是：\n",
    "- 如果 `tem[i]` 在字典 `d` 中已经存在，它会将该键的值增加 `1`。\n",
    "- 如果 `tem[i]` 不在字典 `d` 中，则会将该键添加到字典中，初始值为 `1`。\n",
    "\n",
    "### 示例\n",
    "\n",
    "假设 `a = '综合 理工 综合 综合 综合 师范 理工'`，经过 `split(' ')` 后，`tem` 会是 `['综合', '理工', '综合', '综合', '综合', '师范', '理工']`。\n",
    "\n",
    "执行循环时：\n",
    "- 第一次 `i = 0`，`tem[0]` 是 `'综合'`，字典 `d` 变成 `{'综合': 1}`。\n",
    "- 第二次 `i = 1`，`tem[1]` 是 `'理工'`，字典 `d` 变成 `{'综合': 1, '理工': 1}`。\n",
    "- 第三次 `i = 2`，`tem[2]` 是 `'综合'`，`'综合'` 的计数增加到 `2`，字典 `d` 变成 `{'综合': 2, '理工': 1}`。\n",
    "- 依此类推，最终字典 `d` 将包含每个词的出现次数。\n",
    "\n",
    "最终的字典 `d` 将会是：\n",
    "\n",
    "```python\n",
    "{'综合': 4, '理工': 2, '师范': 1}\n",
    "```\n",
    "\n",
    "### 总结\n",
    "\n",
    "`d[tem[i]] = d.get(tem[i], 0) + 1` 的作用是为每个不同的词汇计算出现的次数并更新字典 `d` 中的计数。"
   ]
  },
  {
   "cell_type": "code",
   "execution_count": 7,
   "metadata": {},
   "outputs": [
    {
     "data": {
      "text/plain": [
       "3"
      ]
     },
     "execution_count": 7,
     "metadata": {},
     "output_type": "execute_result"
    }
   ],
   "source": [
    "d = {a:2}\n",
    "d[a] = d[a] + 1\n",
    "d[a]"
   ]
  },
  {
   "cell_type": "code",
   "execution_count": 3,
   "metadata": {},
   "outputs": [],
   "source": [
    "import turtle as t\n"
   ]
  },
  {
   "cell_type": "code",
   "execution_count": 5,
   "metadata": {},
   "outputs": [
    {
     "ename": "",
     "evalue": "",
     "output_type": "error",
     "traceback": [
      "\u001b[1;31m在当前单元格或上一个单元格中执行代码时 Kernel 崩溃。\n",
      "\u001b[1;31m请查看单元格中的代码，以确定故障的可能原因。\n",
      "\u001b[1;31m单击<a href='https://aka.ms/vscodeJupyterKernelCrash'>此处</a>了解详细信息。\n",
      "\u001b[1;31m有关更多详细信息，请查看 Jupyter <a href='command:jupyter.viewOutput'>log</a>。"
     ]
    }
   ],
   "source": [
    "for i in range(3):\n",
    "    t.seth(i*120)\n",
    "    t.fd(200)"
   ]
  },
  {
   "cell_type": "code",
   "execution_count": 7,
   "metadata": {},
   "outputs": [
    {
     "name": "stdout",
     "output_type": "stream",
     "text": [
      "[['语文', '95'], ['数学', '90']]\n",
      "185\n",
      "2\n",
      "最高分课程是语文 95，最低分课程是数学 90，平均分是92.50\n"
     ]
    }
   ],
   "source": [
    "data = input()\n",
    "courses = []\n",
    "while data:\n",
    "\tcourses.append(data.split(' '))\n",
    "\tdata = input()\n",
    "courses.sort(key=lambda x:int(x[1]), reverse=True)\n",
    "print(courses)\n",
    "avg = 0\n",
    "for i in courses:\n",
    "\tavg += int(i[1])\n",
    "print(avg)\n",
    "course_count = len(courses)\n",
    "print(course_count)\n",
    "print('最高分课程是{} {}，最低分课程是{} {}，平均分是{:.2f}'.format(courses[0][0],courses[0][1],courses[-1][0],courses[-1][1],avg/course_count))"
   ]
  },
  {
   "cell_type": "code",
   "execution_count": 2,
   "metadata": {},
   "outputs": [
    {
     "name": "stdout",
     "output_type": "stream",
     "text": [
      "最高分课程是语文 95，最低分课程是自然 80，平均分是88.33\n"
     ]
    }
   ],
   "source": [
    "courses = []\n",
    "data = input()  # 读取第一行数据\n",
    "while data:\n",
    "    course = data.split(' ')\n",
    "    course[1] = eval(course[1])  # 将分数转换为整数\n",
    "    courses.append(course)\n",
    "    try:\n",
    "        data = input()  # 尝试读取下一行数据\n",
    "    except EOFError:  # 处理输入结束的情况\n",
    "        break\n",
    "\n",
    "if not courses:\n",
    "    print(\"没有课程数据\")\n",
    "else:\n",
    "    courses.sort(key=lambda x: x[1], reverse=True)  # 按分数降序排序\n",
    "    avg = sum(course[1] for course in courses)  # 计算总分\n",
    "    course_count = len(courses)\n",
    "    print('最高分课程是{} {}，最低分课程是{} {}，平均分是{:.2f}'.format(courses[0][0], courses[0][1], courses[-1][0], courses[-1][1], avg / course_count))\n"
   ]
  },
  {
   "cell_type": "code",
   "execution_count": 12,
   "metadata": {},
   "outputs": [
    {
     "name": "stdout",
     "output_type": "stream",
     "text": [
      "[['语文', 20]]\n",
      "[['语文', 20], ['政治', 50]]\n",
      "[['语文', 20], ['政治', 50], ['数学', 90]]\n",
      "[['数学', 90], ['政治', 50], ['语文', 20]]\n",
      "max:['数学', 90],min:['语文', 20],avg:80.0\n"
     ]
    }
   ],
   "source": [
    "data = input()\n",
    "courses = []\n",
    "while data:\n",
    "    course = data.split(' ')\n",
    "    course[1] = int(course[1])\n",
    "    courses.append(course)\n",
    "    print(courses)\n",
    "    data = input()\n",
    "\n",
    "# 排序\n",
    "courses.sort(key=lambda x:x[1], reverse=True)\n",
    "print(courses)\n",
    "\n",
    "courses_sum = sum(course[1] for course in courses)\n",
    "courses_count = len(courses)\n",
    "avg = courses_sum/courses_count\n",
    "\n",
    "# print(f'max:{courses[0]},min:{courses[-1]},avg:{avg}')"
   ]
  },
  {
   "cell_type": "code",
   "execution_count": 13,
   "metadata": {},
   "outputs": [
    {
     "name": "stdout",
     "output_type": "stream",
     "text": [
      "1\n",
      "2\n",
      "3\n",
      "4\n",
      "5\n",
      "6\n",
      "7\n",
      "8\n"
     ]
    }
   ],
   "source": [
    "for i in range(1, 9):\n",
    "    print(i)"
   ]
  },
  {
   "cell_type": "code",
   "execution_count": 15,
   "metadata": {},
   "outputs": [
    {
     "data": {
      "text/plain": [
       "['a', 'bc']"
      ]
     },
     "execution_count": 15,
     "metadata": {},
     "output_type": "execute_result"
    }
   ],
   "source": [
    "'a bc'.split()"
   ]
  },
  {
   "cell_type": "code",
   "execution_count": 17,
   "metadata": {},
   "outputs": [
    {
     "data": {
      "text/plain": [
       "True"
      ]
     },
     "execution_count": 17,
     "metadata": {},
     "output_type": "execute_result"
    }
   ],
   "source": [
    "'a' in 'abc'\n",
    "'a' in 'a ab abc'"
   ]
  },
  {
   "cell_type": "code",
   "execution_count": 20,
   "metadata": {},
   "outputs": [
    {
     "name": "stdout",
     "output_type": "stream",
     "text": [
      "4\n",
      "10\n",
      "18\n",
      "32\n"
     ]
    }
   ],
   "source": [
    "a = [1,2,3]\n",
    "b = [4,5,6]\n",
    "for i in range(3):\n",
    "    print(a[i]*b[i])\n",
    "\n",
    "print(sum(a[i]*b[i] for i in range(3)))"
   ]
  },
  {
   "cell_type": "code",
   "execution_count": 36,
   "metadata": {},
   "outputs": [
    {
     "data": {
      "text/plain": [
       "1"
      ]
     },
     "execution_count": 36,
     "metadata": {},
     "output_type": "execute_result"
    }
   ],
   "source": [
    "x = {'a':1,'b':2}\n",
    "# 'a' in x.keys()\n",
    "# 'a' in x\n",
    "x.get('a')"
   ]
  },
  {
   "cell_type": "code",
   "execution_count": 7,
   "metadata": {},
   "outputs": [
    {
     "name": "stdout",
     "output_type": "stream",
     "text": [
      "['1', '麻省理工', '美国']\n",
      "['2', '哈佛', '美国']\n",
      "['3', '清华', '中国']\n",
      "{'美国': ['麻省理工', '哈佛'], '中国': ['清华']}\n",
      "美国： 2：麻省理工 哈佛\n",
      "中国： 1：清华\n"
     ]
    }
   ],
   "source": [
    "# 定义文件路径\n",
    "file_path = '1.txt'\n",
    "\n",
    "# 创建一个字典用于存储国家和它们的大学信息\n",
    "country_universities = {}\n",
    "\n",
    "# 手动打开文件\n",
    "file = open(file_path, 'r', encoding='utf-8')\n",
    "\n",
    "# 逐行读取文件内容\n",
    "for line in file:\n",
    "    # 分割每行数据，按逗号分割\n",
    "    data = line.strip().split('，')\n",
    "    print(data)\n",
    "    if len(data) == 3:  # 确保行内容格式正确\n",
    "        rank = data[0].strip()  # 排名\n",
    "        university = data[1].strip()  # 学校名称\n",
    "        country = data[2].strip()  # 所属国家\n",
    "        \n",
    "        # 如果国家不在字典中，初始化一个空列表\n",
    "        if country not in country_universities:\n",
    "            country_universities[country] = []\n",
    "        \n",
    "        # 将大学名称添加到对应国家的列表中\n",
    "        country_universities[country].append(university)\n",
    "\n",
    "print(country_universities)\n",
    "# 关闭文件\n",
    "file.close()\n",
    "\n",
    "# 输出每个国家的上榜大学数量及其大学名称\n",
    "for country, universities in country_universities.items():\n",
    "    # 输出国家名称\n",
    "    print(\"{}：\".format(country), end=' ')\n",
    "    # 输出大学数量及其名称\n",
    "    print(\"{}：{}\".format(len(universities), ' '.join(universities)))\n"
   ]
  },
  {
   "cell_type": "code",
   "execution_count": 6,
   "metadata": {},
   "outputs": [
    {
     "name": "stdout",
     "output_type": "stream",
     "text": [
      "文件路径： 1.txt\n",
      "文件已打开\n"
     ]
    }
   ],
   "source": [
    "file_path = '1.txt'\n",
    "print(\"文件路径：\", file_path)\n",
    "\n",
    "try:\n",
    "    file = open(file_path, 'r', encoding='utf-8')\n",
    "    print(\"文件已打开\")\n",
    "except FileNotFoundError:\n",
    "    print(\"文件未找到，请检查路径。\")\n"
   ]
  },
  {
   "cell_type": "code",
   "execution_count": 7,
   "metadata": {},
   "outputs": [
    {
     "name": "stdout",
     "output_type": "stream",
     "text": [
      "当前行： 1，麻省理工，美国\n",
      "\n",
      "分割后的数据： ['1', '麻省理工', '美国']\n",
      "当前行： 2，哈佛，美国\n",
      "\n",
      "分割后的数据： ['2', '哈佛', '美国']\n",
      "当前行： 3，清华，中国\n",
      "分割后的数据： ['3', '清华', '中国']\n"
     ]
    }
   ],
   "source": [
    "for line in file:\n",
    "    print(\"当前行：\", line)  # 打印每行内容\n",
    "    data = line.strip().split('，')\n",
    "    print(\"分割后的数据：\", data)  # 打印分割后的结果\n"
   ]
  },
  {
   "cell_type": "code",
   "execution_count": 2,
   "metadata": {},
   "outputs": [
    {
     "name": "stdout",
     "output_type": "stream",
     "text": [
      "文件已成功打开\n",
      "读取到的行： 1，麻省理工，美国\n",
      "\n",
      "分割后的数据： ['1，麻省理工，美国']\n",
      "读取到的行： 2，哈佛，美国\n",
      "\n",
      "分割后的数据： ['2，哈佛，美国']\n",
      "读取到的行： 3，清华，中国\n",
      "分割后的数据： ['3，清华，中国']\n"
     ]
    }
   ],
   "source": [
    "# 定义文件路径\n",
    "file_path = '1.txt'\n",
    "\n",
    "# 创建一个字典用于存储国家和它们的大学信息\n",
    "country_universities = {}\n",
    "\n",
    "# 手动打开文件\n",
    "try:\n",
    "    file = open(file_path, 'r', encoding='utf-8')\n",
    "    print(\"文件已成功打开\")\n",
    "except FileNotFoundError:\n",
    "    print(\"文件未找到，请检查文件路径\")\n",
    "    exit()\n",
    "\n",
    "# 逐行读取文件内容\n",
    "for line in file:\n",
    "    print(\"读取到的行：\", line)  # 打印每一行内容，检查是否正常读取\n",
    "    data = line.strip().split(',')\n",
    "    print(\"分割后的数据：\", data)  # 打印分割后的数据\n",
    "    if len(data) == 3:  # 确保行内容格式正确\n",
    "        rank = data[0].strip()  # 排名\n",
    "        university = data[1].strip()  # 学校名称\n",
    "        country = data[2].strip()  # 所属国家\n",
    "        \n",
    "        # 如果国家不在字典中，初始化一个空列表\n",
    "        if country not in country_universities:\n",
    "            country_universities[country] = []\n",
    "        \n",
    "        # 将大学名称添加到对应国家的列表中\n",
    "        country_universities[country].append(university)\n",
    "\n",
    "# 关闭文件\n",
    "file.close()\n",
    "\n",
    "# 输出每个国家的上榜大学数量及其大学名称\n",
    "for country, universities in country_universities.items():\n",
    "    # 输出国家名称\n",
    "    print(\"{}：\".format(country))\n",
    "    # 输出大学数量及其名称\n",
    "    print(\"{}：{}\".format(len(universities), ' '.join(universities)))\n"
   ]
  },
  {
   "cell_type": "code",
   "execution_count": 11,
   "metadata": {},
   "outputs": [
    {
     "name": "stdout",
     "output_type": "stream",
     "text": [
      "1，麻省理工，美国\n",
      "\n",
      "2，哈佛，美国\n",
      "\n",
      "3，清华，中国\n"
     ]
    }
   ],
   "source": [
    "# 读取文件\n",
    "f = open('1.txt', 'r', encoding='utf-8')\n",
    "for line in f:\n",
    "    print(line)\n",
    "\n",
    "f.close()\n",
    "# content = "
   ]
  },
  {
   "cell_type": "code",
   "execution_count": null,
   "metadata": {},
   "outputs": [],
   "source": []
  }
 ],
 "metadata": {
  "kernelspec": {
   "display_name": "ncre",
   "language": "python",
   "name": "python3"
  },
  "language_info": {
   "codemirror_mode": {
    "name": "ipython",
    "version": 3
   },
   "file_extension": ".py",
   "mimetype": "text/x-python",
   "name": "python",
   "nbconvert_exporter": "python",
   "pygments_lexer": "ipython3",
   "version": "3.5.6"
  }
 },
 "nbformat": 4,
 "nbformat_minor": 2
}
